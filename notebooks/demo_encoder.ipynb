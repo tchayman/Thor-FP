{
 "cells": [
  {
   "cell_type": "markdown",
   "metadata": {},
   "source": [
    "# Demo — FractalEncoder\n",
    "\n",
    "Ce notebook montre comment utiliser la classe ⁠ FractalEncoder ⁠ (module ⁠ encoder.py ⁠, Bloc 3) pour encoder des données via π et φ."
   ]
  },
  {
   "cell_type": "code",
   "metadata": {},
   "source": [
    "# Import du package (suppose que src/ est dans le PYTHONPATH)\n",
    "import sys\n",
    "sys.path.append('../src/')\n",
    "from thor_fp.encoder import FractalEncoder\n",
    "import numpy as np\n",
    "import matplotlib.pyplot as plt"
   ],
   "execution_count": null,
   "outputs": []
  },
  {
   "cell_type": "markdown",
   "metadata": {},
   "source": [
    "## Instanciation de l'encodeur"
   ]
  },
  {
   "cell_type": "code",
   "metadata": {},
   "source": [
    "encoder = FractalEncoder()"
   ],
   "execution_count": null,
   "outputs": []
  },
  {
   "cell_type": "markdown",
   "metadata": {},
   "source": [
    "## Encodage d'une série de valeurs x"
   ]
  },
  {
   "cell_type": "code",
   "metadata": {},
   "source": [
    "x = np.linspace(0, 2 * np.pi, 200)\n",
    "encoded = encoder.encode(x)\n",
    "\n",
    "plt.figure(figsize=(8,4))\n",
    "plt.plot(x, encoded, label=\"FractalEncoded(x)\")\n",
    "plt.xlabel(\"x\")\n",
    "plt.ylabel(\"Encoded Value\")\n",
    "plt.title(\"FractalEncoder — Demo\")\n",
    "plt.legend()\n",
    "plt.grid(True)\n",
    "plt.show()"
   ],
   "execution_count": null,
   "outputs": []
  }
 ],
 "metadata": {
  "kernelspec": {
   "display_name": "Python 3",
   "language": "python",
   "name": "python3"
  },
  "language_info": {
   "name": "python",
   "version": ""
  }
 },
 "nbformat": 4,
 "nbformat_minor": 5
}
