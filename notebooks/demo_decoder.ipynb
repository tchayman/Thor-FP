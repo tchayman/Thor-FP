{
 "cells": [
  {
   "cell_type": "markdown",
   "metadata": {},
   "source": [
    "# Demo — DeltaPhiDecoder\n",
    "\n",
    "Ce notebook montre comment utiliser la classe ⁠ DeltaPhiDecoder ⁠ (module ⁠ decoder.py ⁠, Bloc 4) pour décoder une série de valeurs via ΔΦ."
   ]
  },
  {
   "cell_type": "code",
   "metadata": {},
   "source": [
    "# Import du package (suppose que src/ est dans le PYTHONPATH)\n",
    "import sys\n",
    "sys.path.append('../src/')\n",
    "from thor_fp.decoder import DeltaPhiDecoder\n",
    "import numpy as np\n",
    "import matplotlib.pyplot as plt"
   ],
   "execution_count": null,
   "outputs": []
  },
  {
   "cell_type": "markdown",
   "metadata": {},
   "source": [
    "## Instanciation du décodeur"
   ]
  },
  {
   "cell_type": "code",
   "metadata": {},
   "source": [
    "decoder = DeltaPhiDecoder(delta_phi=0.5)"
   ],
   "execution_count": null,
   "outputs": []
  },
  {
   "cell_type": "markdown",
   "metadata": {},
   "source": [
    "## Décodage d'une série de valeurs y"
   ]
  },
  {
   "cell_type": "code",
   "metadata": {},
   "source": [
    "y = np.linspace(0, 10, 100)\n",
    "decoded = decoder.decode(y)\n",
    "\n",
    "plt.figure(figsize=(8,4))\n",
    "plt.plot(y, decoded, label=\"Decoded(y)\")\n",
    "plt.xlabel(\"y\")\n",
    "plt.ylabel(\"Decoded Value\")\n",
    "plt.title(\"DeltaPhiDecoder — Demo\")\n",
    "plt.legend()\n",
    "plt.grid(True)\n",
    "plt.show()"
   ],
   "execution_count": null,
   "outputs": []
  }
 ],
 "metadata": {
  "kernelspec": {
   "display_name": "Python 3",
   "language": "python",
   "name": "python3"
  },
  "language_info": {
   "name": "python",
   "version": ""
  }
 },
 "nbformat": 4,
 "nbformat_minor": 5
}
