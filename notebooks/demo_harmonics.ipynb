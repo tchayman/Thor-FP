{
 "cells": [
  {
   "cell_type": "markdown",
   "metadata": {},
   "source": [
    "# Demo — Harmonics\n",
    "\n",
    "Ce notebook montre comment utiliser la fonction ⁠ generate_harmonics ⁠ du module ⁠ harmonics.py ⁠ (Bloc 2) pour générer et visualiser différentes harmoniques."
   ]
  },
  {
   "cell_type": "code",
   "metadata": {},
   "source": [
    "# Import du package (suppose que src/ est dans le PYTHONPATH)\n",
    "import sys\n",
    "sys.path.append('../src/')\n",
    "from thor_fp.harmonics import generate_harmonics\n",
    "import numpy as np\n",
    "import matplotlib.pyplot as plt"
   ],
   "execution_count": null,
   "outputs": []
  },
  {
   "cell_type": "markdown",
   "metadata": {},
   "source": [
    "## Génération et affichage de plusieurs harmoniques"
   ]
  },
  {
   "cell_type": "code",
   "metadata": {},
   "source": [
    "x = np.linspace(0, 2 * np.pi, 300)\n",
    "plt.figure(figsize=(10,5))\n",
    "for n in range(1, 6):\n",
    "    h = generate_harmonics(n, x)\n",
    "    plt.plot(x, h, label=f\"n={n}\")\n",
    "plt.xlabel(\"x\")\n",
    "plt.ylabel(\"Harmonic Value\")\n",
    "plt.title(\"First 5 Harmonics: $\\sin(nx)/n$\")\n",
    "plt.legend()\n",
    "plt.grid(True)\n",
    "plt.show()"
   ],
   "execution_count": null,
   "outputs": []
  }
 ],
 "metadata": {
  "kernelspec": {
   "display_name": "Python 3",
   "language": "python",
   "name": "python3"
  },
  "language_info": {
   "name": "python",
   "version": ""
  }
 },
 "nbformat": 4,
 "nbformat_minor": 5
}
