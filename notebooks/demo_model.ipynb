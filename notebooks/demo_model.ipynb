{
 "cells": [
  {
   "cell_type": "markdown",
   "metadata": {},
   "source": [
    "# Demo — THORModel (θ₀ = 42π)\n",
    "\n",
    "Ce notebook montre comment utiliser le modèle ⁠ THORModel ⁠ pour calculer l’invariant scalaire pour un ensemble d’angles. Il correspond au module ⁠ model.py ⁠ (Bloc 1)."
   ]
  },
  {
   "cell_type": "code",
   "metadata": {},
   "source": [
    "# Import du package (suppose que src/ est dans le PYTHONPATH)\n",
    "import sys\n",
    "sys.path.append('../src/')\n",
    "from thor_fp.model import THORModel\n",
    "import numpy as np\n",
    "import matplotlib.pyplot as plt"
   ],
   "execution_count": null,
   "outputs": []
  },
  {
   "cell_type": "markdown",
   "metadata": {},
   "source": [
    "## Instanciation du modèle"
   ]
  },
  {
   "cell_type": "code",
   "metadata": {},
   "source": [
    "model = THORModel()"
   ],
   "execution_count": null,
   "outputs": []
  },
  {
   "cell_type": "markdown",
   "metadata": {},
   "source": [
    "## Calcul et tracé de l’invariant scalaire pour θ ∈ [0, 2π]"
   ]
  },
  {
   "cell_type": "code",
   "metadata": {},
   "source": [
    "theta = np.linspace(0, 2 * np.pi, 200)\n",
    "scalar = model.scalar_invariant(theta)\n",
    "\n",
    "plt.figure(figsize=(8,4))\n",
    "plt.plot(theta, scalar, label=r\"$\\theta_0 = 42\\pi \\cdot \\cos(\\theta)$\")\n",
    "plt.xlabel(\"θ (radians)\")\n",
    "plt.ylabel(\"Scalar invariant\")\n",
    "plt.title(\"THORModel — Scalar Topological Invariant\")\n",
    "plt.legend()\n",
    "plt.grid(True)\n",
    "plt.show()"
   ],
   "execution_count": null,
   "outputs": []
  }
 ],
 "metadata": {
  "kernelspec": {
   "display_name": "Python 3",
   "language": "python",
   "name": "python3"
  },
  "language_info": {
   "name": "python",
   "version": ""
  }
 },
 "nbformat": 4,
 "nbformat_minor": 5
}
